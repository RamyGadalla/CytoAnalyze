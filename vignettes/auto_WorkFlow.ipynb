{
 "cells": [
  {
   "cell_type": "raw",
   "id": "9f7becce",
   "metadata": {},
   "source": [
    "---\n",
    "title: \"CytoAnalyze\"\n",
    "author: \"Ramy Gadalla\"\n",
    "output:\n",
    "  html_document:\n",
    "    df_print: paged\n",
    "  pdf_document: default\n",
    "vignette: \"%\\\\VignetteIndexEntry{CytoAnalyze} %\\\\VignetteEncoding{UTF-8} %\\\\VignetteEngine{knitr::knitr}\\n\"\n",
    "header-includes:\n",
    " \\usepackage{float}\n",
    " \\floatplacement{figure}{H}\n",
    "---"
   ]
  },
  {
   "cell_type": "code",
   "execution_count": null,
   "id": "fddcfb24",
   "metadata": {
    "name": "setup",
    "tags": [
     "remove_cell"
    ]
   },
   "outputs": [],
   "source": [
    "knitr::opts_chunk$set(echo = TRUE, collapse = TRUE, comment = \"#>\")\n",
    "knitr::opts_knit$set(root.dir = \"~/Data/png\"\n",
    "              )"
   ]
  },
  {
   "cell_type": "markdown",
   "id": "3ccb5b33",
   "metadata": {},
   "source": [
    "This vignette demonstrates the processing steps of cytometry data using the workflow in <mark style=\"background-color: #eaeaea\">CytoAnalyze</mark> package.  "
   ]
  },
  {
   "cell_type": "code",
   "execution_count": null,
   "id": "d67a63da",
   "metadata": {
    "lines_to_next_cell": 0,
    "message": false
   },
   "outputs": [],
   "source": [
    "\n",
    "library(CytoAnalyze)\n"
   ]
  },
  {
   "cell_type": "markdown",
   "id": "ff434259",
   "metadata": {},
   "source": []
  },
  {
   "cell_type": "markdown",
   "id": "4d33cdea",
   "metadata": {},
   "source": [
    "For the demonstration of the functions of <mark style=\"background-color: #eaeaea\">CytoAnalyze</mark> package, data from *Gadalla et al* 2019 is used here. \n",
    "\n",
    "# Arcsin transformation\n",
    "\n",
    "First, we start with the arcsin transformation of the data, using  <mark style=\"background-color: #eaeaea\">arcsin_trans()</mark> function."
   ]
  },
  {
   "cell_type": "code",
   "execution_count": null,
   "id": "bca4e72a",
   "metadata": {
    "eval": false,
    "message": false,
    "name": "arcsinTrans",
    "warning": false
   },
   "outputs": [],
   "source": [
    "\n",
    "arcsin_trans(input_folder = input_folder <- \"~/Data/clean_fcs\",\n",
    "             cofactor = 5,  \n",
    "             #value that controls the extent of the linear region of the scale.\n",
    "             output_folder = \"~/Data/CytoAnalyze_results\",\n",
    "             channel.plot = TRUE \n",
    "             #If True, export histograms for visual inspection of the transformation.\n",
    "              )"
   ]
  },
  {
   "cell_type": "markdown",
   "id": "17ddc51d",
   "metadata": {},
   "source": [
    "Transformed FCS files are exported to the specified output location, with histograms of one randomly selected file to show plot all the channels before and after transformation. Here only CD3 and CD28 are shown before and after transformation. You can always go back and try different cofactor value of arcsin transformation if transformation does not result in satisfactory resolution.\n"
   ]
  },
  {
   "cell_type": "code",
   "execution_count": null,
   "id": "b3e42dc2",
   "metadata": {
    "fig.align": "center",
    "fig.cap": "Before and after data transformation",
    "fig.pos": "H",
    "fig.show": "hold",
    "lines_to_next_cell": 2,
    "name": "transformation plots",
    "out.height": "50%",
    "tags": [
     "remove_input"
    ]
   },
   "outputs": [],
   "source": [
    "knitr::include_graphics(\"~/Data/png/X153Eu_CD3.EQ__histogram.png\")\n",
    "knitr::include_graphics(\"~/Data/png/X146Nd_CD8a_histogram.png\")"
   ]
  },
  {
   "cell_type": "markdown",
   "id": "5ea732e3",
   "metadata": {},
   "source": [
    "# Staining quality check\n",
    "\n",
    "Typically, if samples were acquired over multiple batches of samples, it is a good practice to check the extent of batch variation. plot_stainQC() plot channels of all markers in each batch control samples for visual inspection.\n"
   ]
  },
  {
   "cell_type": "code",
   "execution_count": null,
   "id": "8899cce7",
   "metadata": {
    "eval": false,
    "message": false,
    "name": "plot_stainQC"
   },
   "outputs": [],
   "source": [
    "plot_stainQC(input_folder = \"~/Data/CytoAnalyze_results/ArcsinTrans\", #arcsin transformed files\n",
    "             pattern = \"ControlBatch\", # keyword in the control file names\n",
    "             output_folder = \"~/Data/CytoAnalyze_results\")\n"
   ]
  },
  {
   "cell_type": "markdown",
   "id": "48f894d2",
   "metadata": {},
   "source": [
    "Stacked histograms of all channels in the data are plotted and exported to the specified location. We are showing here only CD57 and Helios."
   ]
  },
  {
   "cell_type": "code",
   "execution_count": null,
   "id": "da8d6591",
   "metadata": {
    "fig.align": "center",
    "fig.cap": "Staining quality control",
    "fig.pos": "H",
    "fig.show": "hold",
    "lines_to_next_cell": 2,
    "name": "stainQC plots",
    "out.height": "50%",
    "tags": [
     "remove_input"
    ]
   },
   "outputs": [],
   "source": [
    "knitr::include_graphics(\"~/Data/png/CD57staining_QC.png\")\n",
    "knitr::include_graphics(\"~/Data/png/Heliosstaining_QC.png\")"
   ]
  },
  {
   "cell_type": "markdown",
   "id": "061e4bb2",
   "metadata": {},
   "source": [
    "The histograms show variation between batch controls in this case. This will need to be corrected by batch correction tools.\n",
    "\n",
    "# Generation of metadata tables\n",
    "\n",
    "Next, metadata tables need to be created for the experiments in the dataset and the panel of markers used. This is achieved by <mark style=\"background-color: #eaeaea\">metadata_tables()</mark> function, which reads in the data and outputs two tables to be filled in and curated by the analyst. The first table is <mark style=\"background-color: #eaeaea\">experiment_info.csv</mark> which contains metadata about the experiments, the groups, the sample ID..ec The analyst is encouraged to add as much data as possible to this table. Second table is <mark style=\"background-color: #eaeaea\">marker_info.csv</mark>, which includes metadata about the markers used in the panel. Mandatory fields in the table that have to be filled in by the analyst are channel_name, marker_name. clean_name, marker_class, channel_type. Additional columns could be added to this table as needed."
   ]
  },
  {
   "cell_type": "code",
   "execution_count": null,
   "id": "c78b0f50",
   "metadata": {
    "eval": false,
    "name": "metadata tables"
   },
   "outputs": [],
   "source": [
    "metadata_tables(input_folder = \"~/Data/CytoAnalyze_results/ArcsinTrans\",       \n",
    "                output_folder = \"~/Data/CytoAnalyze_results/RDS\",     \n",
    "                clean_name = TRUE                 \n",
    "                )"
   ]
  },
  {
   "cell_type": "markdown",
   "id": "495f5f58",
   "metadata": {},
   "source": [
    "The analyst must fill in these tables according to metadata for each experiment. Here, we will read the tables to show an example. In general, it is a good practice to have any NA values."
   ]
  },
  {
   "cell_type": "code",
   "execution_count": null,
   "id": "49ee81be",
   "metadata": {},
   "outputs": [],
   "source": [
    "#marker_info table \n",
    "marker_info <- read.csv(\"~/Data/CytoAnalyze_results/metadata_tables/marker_info.csv\")\n",
    "head(marker_info, 10)"
   ]
  },
  {
   "cell_type": "markdown",
   "id": "1a9a1dcc",
   "metadata": {},
   "source": [
    "Extra fields/column can be added, but it is crucial to keep the names and the order of the first 5 columns unchanged.\n",
    "\"marker_class\" values can be either \"none\", \"state\" or \"type\". \"channel_type\" values can be either \"biological\" or \"non_biolgoical\"\n"
   ]
  },
  {
   "cell_type": "code",
   "execution_count": null,
   "id": "7d0555b7",
   "metadata": {
    "lines_to_next_cell": 2
   },
   "outputs": [],
   "source": [
    "experiment_info <- read.csv(\"~/Data/CytoAnalyze_results/metadata_tables/experiment_info.csv\")\n",
    "head(experiment_info, 8)"
   ]
  },
  {
   "cell_type": "markdown",
   "id": "24d79f37",
   "metadata": {},
   "source": [
    "First column of experiment_info will contain the fcs filenames (Don't change the order of the rows!). The analyst must add the rest of the metadata if available. "
   ]
  },
  {
   "cell_type": "markdown",
   "id": "29b6bc87",
   "metadata": {},
   "source": [
    "# Down-sampling\n",
    "\n",
    "Next step would be down-sampling, if needed. CytoAnalyze, adapts the density-dependent down-sampling approach of SPADE algorithm. It aims to preserve rare populations from getting eliminated from the sample by random down-sampling. The local density value for each cell is calculated, and the downsampling thresholds are provided in terms of density percentile."
   ]
  },
  {
   "cell_type": "code",
   "execution_count": null,
   "id": "bf83e049",
   "metadata": {
    "eval": false,
    "message": false,
    "name": "DDDsample"
   },
   "outputs": [],
   "source": [
    "DDDsample(input_folder = \"~/Data/CytoAnalyze_results/ArcsinTrans\" ,\n",
    "          output_folder = \"~/Data/CytoAnalyze_results\",\n",
    "          marker_info = \"~/Data/CytoAnalyze_results/metadata_tables/marker_info.csv\", \n",
    "          experiment_info = \"~/Data/CytoAnalyze_results/metadata_tables/experiment_info.csv\",\n",
    "          density_to_exclude = 0.01,    # default\n",
    "          density_to_preserve = NULL,   \n",
    "          percent_events_keep = NULL,   # default\n",
    "          number_events_keep = 10000     \n",
    "          )"
   ]
  },
  {
   "cell_type": "markdown",
   "id": "77a42651",
   "metadata": {},
   "source": [
    "If argument \"number_events_keep\" is used to down-sample fixed number of cells from each file, the function will skip the files that have cell count below the value provided in the argument and down-sample files that have count above the value provided.\n",
    "\n",
    "# Batch Correction\n",
    "\n",
    "Batch correction is done using 'cyComboine' and will be demonstrated in the automated workflow section. It is recommended to check whether batch effect exists. To do so and define the markers that need correction, the detect_batch_effect() from cyCombine can be used. \n",
    "\n",
    "# Creating SummarizedExperiment object\n",
    "\n",
    "Here, the dataset is put into SummarizedExperiment-class object for subsequent analysis. SummarizedExperiment makes it easier to work with the dataset as a whole and perform specification operations."
   ]
  },
  {
   "cell_type": "code",
   "execution_count": null,
   "id": "9c1e515c",
   "metadata": {
    "eval": false,
    "lines_to_next_cell": 2,
    "name": "build_SE",
    "results": "hold"
   },
   "outputs": [],
   "source": [
    "SE <- build_SE(input_folder = \"~/Data/CytoAnalyze_results/downsample_output\" ,\n",
    "         experiment_info = \"~/Data/CytoAnalyze_results/metadata_tables/experiment_info.csv\" ,\n",
    "         marker_info = \"~/Data/CytoAnalyze_results/metadata_tables/marker_info.csv\" ,\n",
    "         output_folder = \"~/Data/CytoAnalyze_results\",\n",
    "         export = TRUE)\n",
    "SE"
   ]
  },
  {
   "cell_type": "markdown",
   "id": "e8397e8f",
   "metadata": {},
   "source": [
    "# Clustering parameter fine tuning.\n",
    "\n",
    "In this step, we aim to determine the optimal k parameter for running clustering algorithm phenograph, using k_sweep(). This function from CytoAnalyze is based on clusterSweep from bluster package. Please check out bluster documentation for more information. The computation time required will depende on the range of k being tested and the number of cells in the dataset."
   ]
  },
  {
   "cell_type": "code",
   "execution_count": null,
   "id": "24307fd2",
   "metadata": {
    "eval": false,
    "lines_to_next_cell": 0,
    "name": "K_sweep",
    "results": "hold"
   },
   "outputs": [],
   "source": [
    "\n",
    "k = floor(seq(50,300, length.out=10))\n",
    "k <- c(90, 130, 200 )\n",
    "k_sweep(SE,\n",
    "        k,\n",
    "        export = TRUE,\n",
    "        output_folder = \"~/Data/CytoAnalyze_results\",\n",
    "        assay_name = \"exprs\"\n",
    "        )\n"
   ]
  },
  {
   "cell_type": "markdown",
   "id": "01db6269",
   "metadata": {},
   "source": [
    "\n"
   ]
  },
  {
   "cell_type": "code",
   "execution_count": null,
   "id": "ae2c5a32",
   "metadata": {
    "fig.align": "center",
    "fig.cap": "Phenograph k parameter fine tuning",
    "fig.height": 400,
    "fig.pos": "H",
    "fig.show": "hold",
    "lines_to_next_cell": 2,
    "name": "k sweep plot",
    "out.height": "100%",
    "tags": [
     "remove_input"
    ]
   },
   "outputs": [],
   "source": [
    "knitr::include_graphics(\"~/Data/png/k_sweepx.png\")"
   ]
  },
  {
   "cell_type": "markdown",
   "id": "8e7c97d6",
   "metadata": {},
   "source": [
    "The function returns silhouette average plot of the sequence of k values entered. The optimal k should be the value that maximize the silhouette distance between cluster. This, however, tends to favor the global/broad clustering over local data structure, so analyst is encouraged to make a judgment call here. This serves only to provide a rough value of optimal k."
   ]
  },
  {
   "cell_type": "markdown",
   "id": "8e16e20f",
   "metadata": {},
   "source": [
    "# CyTOF workflow/pipeline\n",
    "\n",
    "This section shows the functionality of cyto_workflow(). Now, after the data has been through transformation, downsampling (if required), and tuning parameter k for optimal clustering as shown above, the data is ready to go through the analysis pipeline. Please note that the above steps are not needed to run the analysis pipeline, it is only recommended, and the analysis pipeline can stand on its own. This structure of the package is due to the fact that the above steps typically need human supervision.  \n"
   ]
  },
  {
   "cell_type": "code",
   "execution_count": null,
   "id": "810b485c",
   "metadata": {
    "eval": false,
    "lines_to_next_cell": 0,
    "name": "workflow"
   },
   "outputs": [],
   "source": [
    "cyto_workflow (input_folder = \"~/Data/CytoAnalyze_results/downsample_output\" ,\n",
    "               SE = NULL,  # corrected SummarizedExperiment\n",
    "               output_folder = \"~/Data/CytoAnalyze_results/workflow_result\",\n",
    "               marker_info = \"~/Data/CytoAnalyze_results/metadata_tables/marker_info.csv\",\n",
    "               experiment_info = \"~/Data/CytoAnalyze_results/metadata_tables/experiment_info.csv\",\n",
    "               batch_correct = TRUE,\n",
    "               markers_correct = c(\"CD57\", \"Helios\"),\n",
    "               xdim = 8,        #default value\n",
    "               ydim = 8,        #default value\n",
    "               k = 30,          #default value\n",
    "               n = 5,          \n",
    "               assay_name = \"exprs\",  #default\n",
    "               plot_clusters = TRUE,\n",
    "               groups = \"treatment\",\n",
    "               exp_subject = \"donor_id\", \n",
    "               plot_samples_prop = TRUE,\n",
    "               samples = \"donor_id\",\n",
    "               plot_clusters_violin = TRUE,\n",
    "               plot_cluster_corr = TRUE,\n",
    "               plot_cluster_colsPie = TRUE,\n",
    "               plot_cluster_hm = TRUE,\n",
    "               diff_exprs = TRUE,\n",
    "               count_threshold = 100,\n",
    "               diff_abund = TRUE,\n",
    "               diff_limma = TRUE,\n",
    "               contrast = c(\"treated\", \"untreated\"),\n",
    "               paired = FALSE)"
   ]
  },
  {
   "cell_type": "markdown",
   "id": "7c0f8501",
   "metadata": {},
   "source": []
  },
  {
   "cell_type": "markdown",
   "id": "426416c5",
   "metadata": {},
   "source": [
    "cyto_workflow() is the wrapper function that streamline CytoAnalyze workflow. The output of workflow pipeline is exported to the specified location. For more details on the function arguments, please check out the package documentations. Here is an example of the output directory structure.\n",
    "\n",
    "In addition to this wrapper function, CytoAnalyze also contain separate functions that can be used outside of the pipeline."
   ]
  },
  {
   "cell_type": "code",
   "execution_count": null,
   "id": "08ba8184",
   "metadata": {
    "fig.align": "center",
    "fig.cap": "Output directory layout",
    "fig.pos": "H",
    "fig.show": "hold",
    "lines_to_next_cell": 2,
    "name": "output directory tree",
    "tags": [
     "remove_input"
    ]
   },
   "outputs": [],
   "source": [
    "knitr::include_graphics(\"~/Data/png/tree mainx.png\")"
   ]
  },
  {
   "cell_type": "markdown",
   "id": "b2962107",
   "metadata": {},
   "source": [
    "The function outputs a variety of data visualizations and statistical analysis. Directory RDS will contain all the rds objects exported by the pipeline e.g batch corrected SummarizedExperiment object if performed and SummarizedExperiment object with the added clustering and dimensions reduction data.\n",
    "\n",
    "# Visualization\n",
    "\n",
    "Directory UMAPS will contain all umap/phenograph figures exported by the pipeline. Based on the input arguments, such as the experimental groups and the markers to analyze, the pipeline will generate a number of umap/phenograph figures. Here are few examples:\n"
   ]
  },
  {
   "cell_type": "code",
   "execution_count": null,
   "id": "fc54b724",
   "metadata": {
    "fig.align": "center",
    "fig.cap": "Universal UMAP",
    "fig.show": "hold",
    "lines_to_next_cell": 2,
    "message": false,
    "name": "Uni UMAP",
    "out.height": "40%",
    "out.width": "70%",
    "tags": [
     "remove_input"
    ],
    "warning": false
   },
   "outputs": [],
   "source": [
    "knitr::include_graphics(\"~/Data/CytoAnalyze_results/workflow_result/UMAPs/universal_umap.png\")"
   ]
  },
  {
   "cell_type": "code",
   "execution_count": null,
   "id": "c6356250",
   "metadata": {
    "fig.align": "center",
    "fig.cap": "Experimental groups UMAP",
    "fig.pos": "H",
    "fig.show": "hold",
    "message": false,
    "name": "groups umap",
    "out.height": "40%",
    "out.width": "150%",
    "tags": [
     "remove_input"
    ],
    "warning": false
   },
   "outputs": [],
   "source": [
    "\n",
    "knitr::include_graphics(\"~/Data/CytoAnalyze_results/workflow_result/UMAPs/groups_umap.png\")"
   ]
  },
  {
   "cell_type": "markdown",
   "id": "178bb7ff",
   "metadata": {},
   "source": [
    "Overall marker expression intensity umap/phenograph figures and marker intensity per group figures are also generated for the specified markers. All markers are plots unless otherwise specified.\n"
   ]
  },
  {
   "cell_type": "code",
   "execution_count": null,
   "id": "5c9717e2",
   "metadata": {
    "fig.align": "center",
    "fig.cap": "Marker intensity UMAP; CD3 and TCRgd",
    "fig.pos": "H",
    "fig.show": "hold",
    "lines_to_next_cell": 2,
    "name": "marker intensity UMAP",
    "out.width": "50%",
    "tags": [
     "remove_input"
    ]
   },
   "outputs": [],
   "source": [
    "\n",
    "knitr::include_graphics(\"~/Data/CytoAnalyze_results/workflow_result/UMAPs/Overall markers intensity/CD3_umap.png\")\n",
    "knitr::include_graphics(\"~/Data/CytoAnalyze_results/workflow_result/UMAPs/Overall markers intensity/TCRgd_umap.png\")\n"
   ]
  },
  {
   "cell_type": "code",
   "execution_count": null,
   "id": "4f32c3d8",
   "metadata": {
    "fig.align": "center",
    "fig.cap": "Marker intensity UMAP per group; CD39 and Tbet",
    "fig.pos": "H",
    "fig.show": "hold",
    "name": "marker intensity per group UMAP",
    "out.width": "50%",
    "tags": [
     "remove_input"
    ]
   },
   "outputs": [],
   "source": [
    "\n",
    "knitr::include_graphics(\"~/Data/CytoAnalyze_results/workflow_result/UMAPs/Markers intensity per group/CD39_per_group_umap.png\")\n",
    "knitr::include_graphics(\"~/Data/CytoAnalyze_results/workflow_result/UMAPs/Markers intensity per group/Tbet_per_group_umap.png\")\n"
   ]
  },
  {
   "cell_type": "markdown",
   "id": "dfc8bb1c",
   "metadata": {},
   "source": [
    "Another way of showing the overall and per-group marker expression intensity that the pipeline uses is violin plots.\n"
   ]
  },
  {
   "cell_type": "code",
   "execution_count": null,
   "id": "b552f56f",
   "metadata": {
    "fig.align": "center",
    "fig.cap": "Violin plots - overall expression; CD8 and CD45RA",
    "fig.pos": "H",
    "fig.show": "hold",
    "lines_to_next_cell": 2,
    "name": "violin plot overall",
    "out.height": "50%",
    "tags": [
     "remove_input"
    ]
   },
   "outputs": [],
   "source": [
    "\n",
    "knitr::include_graphics(\"~/Data/CytoAnalyze_results/workflow_result/violins/Overall markers intensity/CD8a_violin.png\")\n",
    "knitr::include_graphics(\"~/Data/CytoAnalyze_results/workflow_result/violins/Overall markers intensity/CD45RA_violin.png\")\n"
   ]
  },
  {
   "cell_type": "code",
   "execution_count": null,
   "id": "30f0790a",
   "metadata": {
    "fig.align": "center",
    "fig.cap": "Violin plots - per-group expression; Tbet and HLA-DR",
    "fig.pos": "H",
    "fig.show": "hold",
    "name": "violin plot per group",
    "out.height": "50%",
    "tags": [
     "remove_input"
    ]
   },
   "outputs": [],
   "source": [
    "\n",
    "knitr::include_graphics(\"~/Data/CytoAnalyze_results/workflow_result/violins/Markers intensity per group/Tbet_groups_violin.png\")\n",
    "knitr::include_graphics(\"~/Data/CytoAnalyze_results/workflow_result/violins/Markers intensity per group/HLADR_groups_violin.png\")\n"
   ]
  },
  {
   "cell_type": "markdown",
   "id": "b66a5f5d",
   "metadata": {},
   "source": [
    "The overall markers expression intensity can also be visualized by heatmap"
   ]
  },
  {
   "cell_type": "code",
   "execution_count": null,
   "id": "dedbb1e0",
   "metadata": {
    "fig.align": "center",
    "fig.cap": "clusters - markers Heatmap",
    "fig.pos": "H",
    "fig.show": "hold",
    "lines_to_next_cell": 0,
    "name": "heatmap",
    "tags": [
     "remove_input"
    ]
   },
   "outputs": [],
   "source": [
    "knitr::include_graphics(\"~/Data/CytoAnalyze_results/workflow_result/clusters_heatmap.png\")"
   ]
  },
  {
   "cell_type": "markdown",
   "id": "523d1548",
   "metadata": {},
   "source": []
  },
  {
   "cell_type": "markdown",
   "id": "3d0250fc",
   "metadata": {},
   "source": [
    "## Miscellaneous visualizations \n",
    "\n",
    "The pipeline generates some visualization for cluster frequencies in the dataset for individual samples and for the specified groups. Also, the tables containing this data is exported in the output location for further analysis."
   ]
  },
  {
   "cell_type": "code",
   "execution_count": null,
   "id": "62a4a1b5",
   "metadata": {
    "fig.align": "center",
    "fig.cap": "Cluster proportions per sample and per group",
    "fig.pos": "H",
    "fig.show": "hold",
    "name": "Barplot",
    "out.width": "50%",
    "tags": [
     "remove_input"
    ]
   },
   "outputs": [],
   "source": [
    "knitr::include_graphics(\"~/Data/CytoAnalyze_results/workflow_result/sample_cluster_col_plot.png\")\n",
    "knitr::include_graphics(\"~/Data/CytoAnalyze_results/workflow_result/stacked column plot.png\")\n",
    "knitr::include_graphics(\"~/Data/CytoAnalyze_results/workflow_result/pie chart.png\")"
   ]
  },
  {
   "cell_type": "markdown",
   "id": "61732ab9",
   "metadata": {},
   "source": [
    "# Statistical analysis\n",
    "\n",
    "The workflow includes testing the correlation of cluster abundances in all samples and samples within groups. \n"
   ]
  },
  {
   "cell_type": "code",
   "execution_count": null,
   "id": "628e5514",
   "metadata": {
    "fig.cap": "correlation",
    "fig.pos": "H",
    "fig.show": "hold",
    "name": "correlation",
    "out.width": "50%",
    "tags": [
     "remove_input"
    ]
   },
   "outputs": [],
   "source": [
    "knitr::include_graphics(\"~/Data/CytoAnalyze_results/workflow_result/cluster abundaces correlation in samples.png\")\n",
    "knitr::include_graphics(\"~/Data/CytoAnalyze_results/workflow_result/cluster abundaces correlation in group treated.png\")"
   ]
  },
  {
   "cell_type": "markdown",
   "id": "6fb77c98",
   "metadata": {},
   "source": [
    "Clusters that significantly correlate in abundance together in all samples or groups are labelled with asterisk. Note that correlation coefficient of groups that contains 4 or less samples cannot be calculated. The tables for the Pearson's correlation coefficients and p values are exported in folder Tables. \n",
    "\n",
    "## Differential Abundace\n",
    "\n",
    "The pipeline uses edgeR test from diffcyt to test the differential cluster abundance between the specified groups. Check out diffcyt package for more details. A table with log-fold changes and un-adjusted and adjusted p values (Benjamini-Hochberg method) is exported to the output location in folder stats subfolder Cluster abundance. In addition, column plot is generated and exported for the log-fold change values. If argument paired is set to TRUE, the model formula is adjusted to take in consideration the paired design (with exp_subject argument specifying samples pairing). The comparison contrast is specified in argument contrast. Clusters significant in abundance (below 0.05 adjusted p value) are marked with asterisk. For more information, check out the package documentation.\n"
   ]
  },
  {
   "cell_type": "code",
   "execution_count": null,
   "id": "efd1459c",
   "metadata": {
    "fig.align": "center",
    "fig.cap": "Differential Abundance",
    "fig.pos": "H",
    "fig.show": "hold",
    "name": "abundance",
    "tags": [
     "remove_input"
    ]
   },
   "outputs": [],
   "source": [
    "\n",
    "knitr::include_graphics(\"~/Data/CytoAnalyze_results/workflow_result/stats/Cluster abundance/column_plot_cluster_logFC.png\")\n"
   ]
  },
  {
   "cell_type": "markdown",
   "id": "247f0763",
   "metadata": {},
   "source": [
    "## Differential expression\n",
    "\n",
    "The pipeline uses the two multiple regression approaches provided by CytoGLMM package. The bootstrapped generalized linear model for unpaired experimental design and the generalized linear mixed model with random effect assigned to exp_subject to adjust for the autocorrelation of a paired design. The function cyto_diff_exprs() performs either one of these two model -based on the design- by reiterating over all the clusters in the data set. The information from this modelling allows to identify the combination of markers on specific clusters that can predict/classify the response variable e.g treatment, response..etc. By default, the markers included in the modelling are the markers that are labelled as \"state\" in marker_info table. If a different set of markers is of interest, simply the labels in marker_info or SummarizedExperiment can be changed to include or exclude markers. Forest plots are generated for each cluster in the data set. Also, a table with coefficient median values, confidence intervals, p values is exported to the output location folder \"Differential expression\". \n"
   ]
  },
  {
   "cell_type": "code",
   "execution_count": null,
   "id": "03f82f3c",
   "metadata": {
    "fig.align": "center",
    "fig.cap": "Differential Abundance",
    "fig.pos": "H",
    "fig.show": "hold",
    "lines_to_next_cell": 2,
    "name": "expression",
    "tags": [
     "remove_input"
    ]
   },
   "outputs": [],
   "source": [
    "knitr::include_graphics(\"~/Data/CytoAnalyze_results/workflow_result/stats/Differential expression/forest_plots_unpaired/All_clusters_forestplot_glm.png\")"
   ]
  },
  {
   "cell_type": "markdown",
   "id": "0821b6d1",
   "metadata": {},
   "source": [
    "Also, for differential expression testing, limma test from diffcyt package can be performed if diff_limma argument is set to TRUE. Experimental desgin can be paired or unpaired. A table with log-fold change and p values for all the marker cluster combination."
   ]
  },
  {
   "cell_type": "markdown",
   "id": "fe1cdce8",
   "metadata": {},
   "source": [
    "For information about the individual functions in CytoAnalyze package and troubleshooting, please check out the package documentations.\n",
    "\n"
   ]
  }
 ],
 "metadata": {
  "jupytext": {
   "cell_metadata_filter": "out.height,eval,fig.pos,name,warning,fig.height,fig.align,tags,out.width,message,fig.show,results,fig.cap,-all",
   "main_language": "R",
   "notebook_metadata_filter": "-all"
  }
 },
 "nbformat": 4,
 "nbformat_minor": 5
}
