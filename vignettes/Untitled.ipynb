{
 "cells": [
  {
   "cell_type": "code",
   "execution_count": 1,
   "id": "c2ec2585-9278-49e2-9191-e1980ab6d082",
   "metadata": {},
   "outputs": [
    {
     "data": {
      "text/html": [
       "'/Volumes/GoogleDrive/My Drive/spatial'"
      ],
      "text/latex": [
       "'/Volumes/GoogleDrive/My Drive/spatial'"
      ],
      "text/markdown": [
       "'/Volumes/GoogleDrive/My Drive/spatial'"
      ],
      "text/plain": [
       "[1] \"/Volumes/GoogleDrive/My Drive/spatial\""
      ]
     },
     "metadata": {},
     "output_type": "display_data"
    }
   ],
   "source": [
    "getwd()\n"
   ]
  },
  {
   "cell_type": "code",
   "execution_count": 2,
   "id": "aaa6c02f-0831-49a8-a0f0-af0bcc5b8b42",
   "metadata": {},
   "outputs": [
    {
     "ename": "ERROR",
     "evalue": "Error in library(CytoAnalyze): there is no package called ‘CytoAnalyze’\n",
     "output_type": "error",
     "traceback": [
      "Error in library(CytoAnalyze): there is no package called ‘CytoAnalyze’\nTraceback:\n",
      "1. library(CytoAnalyze)"
     ]
    }
   ],
   "source": [
    "library(CytoAnalyze)"
   ]
  },
  {
   "cell_type": "code",
   "execution_count": null,
   "id": "30c52d7f-633b-46d5-99eb-40d27ff43e17",
   "metadata": {},
   "outputs": [],
   "source": [
    "Google Drive/My Drive/spatial/Untitled.ipynb"
   ]
  }
 ],
 "metadata": {
  "kernelspec": {
   "display_name": "R",
   "language": "R",
   "name": "ir"
  },
  "language_info": {
   "codemirror_mode": "r",
   "file_extension": ".r",
   "mimetype": "text/x-r-source",
   "name": "R",
   "pygments_lexer": "r",
   "version": "3.6.1"
  }
 },
 "nbformat": 4,
 "nbformat_minor": 5
}
